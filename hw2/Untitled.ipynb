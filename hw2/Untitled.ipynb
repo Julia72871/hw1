{
 "cells": [
  {
   "cell_type": "code",
   "execution_count": 1,
   "id": "26da3c47-4996-474d-a30d-8bdc6dcec1c1",
   "metadata": {},
   "outputs": [
    {
     "name": "stdin",
     "output_type": "stream",
     "text": [
      "Введите число при х 5\n"
     ]
    }
   ],
   "source": [
    "b = int(input('Введите число при х'))"
   ]
  },
  {
   "cell_type": "code",
   "execution_count": 2,
   "id": "884ccee6-0f15-442c-85c0-2fcd6d8c327c",
   "metadata": {},
   "outputs": [
    {
     "name": "stdin",
     "output_type": "stream",
     "text": [
      "Введите число при х^2 2\n"
     ]
    }
   ],
   "source": [
    "a = int(input(\"Введите число при х^2\"))"
   ]
  },
  {
   "cell_type": "code",
   "execution_count": 3,
   "id": "2834ff57-da87-43c0-aad7-cdb582c18503",
   "metadata": {},
   "outputs": [
    {
     "name": "stdin",
     "output_type": "stream",
     "text": [
      "Введите число с 4\n"
     ]
    }
   ],
   "source": [
    "c = int(input(\"Введите число с\"))"
   ]
  },
  {
   "cell_type": "code",
   "execution_count": 4,
   "id": "21754af2-85bf-4f44-96a3-0c2e1101d2c5",
   "metadata": {},
   "outputs": [
    {
     "name": "stdout",
     "output_type": "stream",
     "text": [
      "-7\n"
     ]
    }
   ],
   "source": [
    "D = b ** 2 - 4 * a * c\n",
    "print(D)"
   ]
  },
  {
   "cell_type": "code",
   "execution_count": null,
   "id": "c5bf51bb-e20d-4146-8538-c1f7b14bc333",
   "metadata": {},
   "outputs": [],
   "source": []
  }
 ],
 "metadata": {
  "kernelspec": {
   "display_name": "Python 3 (ipykernel)",
   "language": "python",
   "name": "python3"
  },
  "language_info": {
   "codemirror_mode": {
    "name": "ipython",
    "version": 3
   },
   "file_extension": ".py",
   "mimetype": "text/x-python",
   "name": "python",
   "nbconvert_exporter": "python",
   "pygments_lexer": "ipython3",
   "version": "3.12.4"
  }
 },
 "nbformat": 4,
 "nbformat_minor": 5
}
