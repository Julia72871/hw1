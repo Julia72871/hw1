{
 "cells": [
  {
   "cell_type": "code",
   "execution_count": 5,
   "id": "4d60b07d-959d-40f2-ab5c-c6e6f460b870",
   "metadata": {},
   "outputs": [],
   "source": [
    "from math import *"
   ]
  },
  {
   "cell_type": "code",
   "execution_count": 2,
   "id": "3121cad7-b75a-4dbf-8989-7bc9032b4aea",
   "metadata": {},
   "outputs": [],
   "source": [
    "a=int(input(\"Введите первую сторону\"))\n"
   ]
  },
  {
   "cell_type": "code",
   "execution_count": 3,
   "id": "812b6c1e-41d7-4c64-94dd-eb1d654da44c",
   "metadata": {},
   "outputs": [],
   "source": [
    "b=int(input(\"Введите вторую сторону\"))"
   ]
  },
  {
   "cell_type": "code",
   "execution_count": 6,
   "id": "0a8cf905-adca-4ea2-8b4e-285fb16c02ab",
   "metadata": {},
   "outputs": [],
   "source": [
    "c=radians(int(input(\"Введите угол\")))"
   ]
  },
  {
   "cell_type": "code",
   "execution_count": 8,
   "id": "0d58e63b-7365-429b-b3f8-768c54e8ffbc",
   "metadata": {},
   "outputs": [],
   "source": [
    "if c>=180 and c<0:\n",
    "    c = int(input(\"Неверные данные. Введите угол заново, пожалуйста!:\"))\n",
    "else:\n",
    "    d=sqrt(a**2 + b**2 - 2*a*b*cos(c))"
   ]
  },
  {
   "cell_type": "code",
   "execution_count": 9,
   "id": "960bed6d-85ee-4969-9944-90053edcbc94",
   "metadata": {},
   "outputs": [
    {
     "name": "stdout",
     "output_type": "stream",
     "text": [
      "сторона третьей стороны треугольника =  10.583005244258361\n"
     ]
    }
   ],
   "source": [
    "print('сторона третьей стороны треугольника = ', d)"
   ]
  },
  {
   "cell_type": "code",
   "execution_count": null,
   "id": "87654877-0809-4b7c-a555-ecb03a13a614",
   "metadata": {},
   "outputs": [],
   "source": []
  }
 ],
 "metadata": {
  "kernelspec": {
   "display_name": "Python 3 (ipykernel)",
   "language": "python",
   "name": "python3"
  },
  "language_info": {
   "codemirror_mode": {
    "name": "ipython",
    "version": 3
   },
   "file_extension": ".py",
   "mimetype": "text/x-python",
   "name": "python",
   "nbconvert_exporter": "python",
   "pygments_lexer": "ipython3",
   "version": "3.12.3"
  }
 },
 "nbformat": 4,
 "nbformat_minor": 5
}
